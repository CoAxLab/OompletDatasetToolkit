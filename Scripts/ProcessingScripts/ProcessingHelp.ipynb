{
 "cells": [
  {
   "cell_type": "code",
   "execution_count": 2,
   "metadata": {},
   "outputs": [],
   "source": [
    "import os\n",
    "import glob\n",
    "import pandas as pd"
   ]
  },
  {
   "cell_type": "markdown",
   "metadata": {},
   "source": [
    "# Locate all raw data files"
   ]
  },
  {
   "cell_type": "code",
   "execution_count": 3,
   "metadata": {},
   "outputs": [],
   "source": [
    "working_path = os.getcwd()\n",
    "tier_path = os.path.dirname(os.path.dirname(working_path))\n",
    "\n",
    "## List of all .csv files in InputData directory\n",
    "list_CSVs = glob.glob(tier_path + \"/Data/InputData/*.csv\")\n",
    "# Change \"*.csv\" to another file type (with the leading *) if needed"
   ]
  },
  {
   "cell_type": "markdown",
   "metadata": {},
   "source": [
    "Navigation"
   ]
  },
  {
   "cell_type": "code",
   "execution_count": 4,
   "metadata": {},
   "outputs": [],
   "source": [
    "Output_Dirs = os.path.join(tier_path, \"Output\")\n",
    "Results_Dir = os.path.join(Output_Dirs, \"Results\")\n",
    "DataAppendix_Dir = os.path.join(Output_Dirs, \"DataAppendixOutput\")\n",
    "\n",
    "Scripts_Dirs = os.path.join(tier_path, \"Scripts\")\n",
    "AnalysisScripts_Dir = os.path.join(Scripts_Dirs, \"AnalysisScripts\")\n",
    "ProcessScripts_Dir = os.path.join(Scripts_Dirs, \"ProcessingScripts\")\n",
    "DataAppendixScripts_Dir = os.path.join(Scripts_Dirs, \"DataAppendixScripts\")\n",
    "\n",
    "Data_Dirs = os.path.join(tier_path, \"Data\")\n",
    "AnalysisData_Dir = os.path.join(Output_Dirs, \"AnalysisData\")\n",
    "InputData_Dir = os.path.join(Output_Dirs, \"InputData\")\n",
    "IntermediateData_Dir = os.path.join(Output_Dirs, \"IntermediateData\")"
   ]
  },
  {
   "cell_type": "markdown",
   "metadata": {},
   "source": [
    "# Split multiple concatenated .csv files\n",
    "The following block will:\n",
    "\n",
    "a) read all concatenated .csv files (Gorilla project data is packaged this way)\n",
    "\n",
    "b) create a directory within IntermediateData for each unique experiment (based on signature in filename)\n",
    "\n",
    "    - Note, reference project had raw data filenames as follows: <mouth_swap_task-iwky.csv>\n",
    "\n",
    "    - Created directory name for this file was \"mouth\"\n",
    "\n",
    "    - Note, if two source files exist foe the same experiment, directory will be created only once\n",
    "\n",
    "c) create and save a new .csv file for each participant in the concatenated file\n",
    "\n",
    "    - These are saved within the corresponsing directory"
   ]
  },
  {
   "cell_type": "code",
   "execution_count": 5,
   "metadata": {},
   "outputs": [],
   "source": [
    "## Iterate over every .csv file in list_CSVs\n",
    "for data_file in range(len(list_CSVs)):\n",
    "\n",
    "    ## out is the path to the output directory\n",
    "    out = list_CSVs[data_file]\n",
    "    out = out[0:(len(out) - 19)] #EDIT This line to remove filename from string, leave part if you want dynamic output directory names\n",
    "    out = out.replace('InputData', 'IntermediateData')\n",
    "\n",
    "    ## Create output directory if it does not exist\n",
    "    if not os.path.exists(out):\n",
    "        os.makedirs(out)\n",
    "    \n",
    "    ## Read current data .csv, then list all unique patricipant IDs\n",
    "    CCDF = pd.read_csv(list_CSVs[data_file])\n",
    "    parts = CCDF[\"Participant Private ID\"].unique()\n",
    "    participants = parts.tolist()\n",
    "    participants.pop()\n",
    "\n",
    "    ## Create and save a .csv for each individual participant\n",
    "    for id in participants:\n",
    "        mask = CCDF['Participant Private ID'] == id\n",
    "        WorkingDF = CCDF[mask]\n",
    "        idint = (int(id))\n",
    "\n",
    "        outFname = str(idint) + '_data.csv' \n",
    "        WorkingDF.to_csv(os.path.join(out, outFname))\n"
   ]
  }
 ],
 "metadata": {
  "kernelspec": {
   "display_name": "base",
   "language": "python",
   "name": "python3"
  },
  "language_info": {
   "codemirror_mode": {
    "name": "ipython",
    "version": 3
   },
   "file_extension": ".py",
   "mimetype": "text/x-python",
   "name": "python",
   "nbconvert_exporter": "python",
   "pygments_lexer": "ipython3",
   "version": "3.9.13"
  },
  "orig_nbformat": 4
 },
 "nbformat": 4,
 "nbformat_minor": 2
}
